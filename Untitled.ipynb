{
 "cells": [
  {
   "cell_type": "code",
   "execution_count": 1,
   "id": "a3c686d0",
   "metadata": {},
   "outputs": [],
   "source": [
    "import requests\n"
   ]
  },
  {
   "cell_type": "code",
   "execution_count": 2,
   "id": "127cf6c9",
   "metadata": {},
   "outputs": [],
   "source": [
    "url='http://127.0.0.1:9696/predict'"
   ]
  },
  {
   "cell_type": "code",
   "execution_count": 3,
   "id": "6223d32e",
   "metadata": {},
   "outputs": [
    {
     "name": "stdout",
     "output_type": "stream",
     "text": [
      "{'churn': True, 'churn_probability': 0.5966964316784592}\n",
      "sending promo email to xyz-123\n"
     ]
    }
   ],
   "source": [
    "customer_id = 'xyz-123'\n",
    "customer = {\n",
    "    \"gender\": \"female\",\n",
    "    \"seniorcitizen\": 0,\n",
    "    \"partner\": \"yes\",\n",
    "    \"dependents\": \"no\",\n",
    "    \"phoneservice\": \"no\",\n",
    "    \"multiplelines\": \"no_phone_service\",\n",
    "    \"internetservice\": \"dsl\",\n",
    "    \"onlinesecurity\": \"no\",\n",
    "    \"onlinebackup\": \"yes\",\n",
    "    \"deviceprotection\": \"no\",\n",
    "    \"techsupport\": \"no\",\n",
    "    \"streamingtv\": \"no\",\n",
    "    \"streamingmovies\": \"no\",\n",
    "    \"contract\": \"month-to-month\",\n",
    "    \"paperlessbilling\": \"yes\",\n",
    "    \"paymentmethod\": \"electronic_check\",\n",
    "    \"tenure\": 4,\n",
    "    \"monthlycharges\": 29.85,\n",
    "    \"totalcharges\": (4 * 29.85)\n",
    "}\n",
    "\n",
    "\n",
    "response = requests.post(url, json=customer).json()\n",
    "print(response)\n",
    "\n",
    "if response['churn'] == True:\n",
    "    print('sending promo email to %s' % customer_id)\n",
    "else:\n",
    "    print('not sending promo email to %s' % customer_id)"
   ]
  },
  {
   "cell_type": "code",
   "execution_count": null,
   "id": "8c6b6dc2",
   "metadata": {},
   "outputs": [],
   "source": []
  }
 ],
 "metadata": {
  "kernelspec": {
   "display_name": "Python 3.9.13 ('churn-flask-app-ZQKCaRdZ')",
   "language": "python",
   "name": "python3"
  },
  "language_info": {
   "codemirror_mode": {
    "name": "ipython",
    "version": 3
   },
   "file_extension": ".py",
   "mimetype": "text/x-python",
   "name": "python",
   "nbconvert_exporter": "python",
   "pygments_lexer": "ipython3",
   "version": "3.9.13"
  },
  "vscode": {
   "interpreter": {
    "hash": "72782214dc2b28086ebdb0c208a664d42246e2b22c3d4b939dd5ebd4124d86c3"
   }
  }
 },
 "nbformat": 4,
 "nbformat_minor": 5
}
