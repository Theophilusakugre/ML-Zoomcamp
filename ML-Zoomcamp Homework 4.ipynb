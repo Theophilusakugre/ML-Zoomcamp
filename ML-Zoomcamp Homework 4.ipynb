{
 "cells": [
  {
   "cell_type": "code",
   "execution_count": 1,
   "id": "51c7c9b4",
   "metadata": {},
   "outputs": [],
   "source": [
    "import pandas as pd\n",
    "import numpy as np"
   ]
  },
  {
   "cell_type": "code",
   "execution_count": 2,
   "id": "d1b8f1c4",
   "metadata": {},
   "outputs": [],
   "source": [
    "data = pd.read_csv('https://raw.githubusercontent.com/alexeygrigorev/datasets/master/AER_credit_card_data.csv')"
   ]
  },
  {
   "cell_type": "code",
   "execution_count": 3,
   "id": "01fe8ed1",
   "metadata": {},
   "outputs": [
    {
     "name": "stdout",
     "output_type": "stream",
     "text": [
      "(1319, 12)\n"
     ]
    },
    {
     "data": {
      "text/html": [
       "<div>\n",
       "<style scoped>\n",
       "    .dataframe tbody tr th:only-of-type {\n",
       "        vertical-align: middle;\n",
       "    }\n",
       "\n",
       "    .dataframe tbody tr th {\n",
       "        vertical-align: top;\n",
       "    }\n",
       "\n",
       "    .dataframe thead th {\n",
       "        text-align: right;\n",
       "    }\n",
       "</style>\n",
       "<table border=\"1\" class=\"dataframe\">\n",
       "  <thead>\n",
       "    <tr style=\"text-align: right;\">\n",
       "      <th></th>\n",
       "      <th>card</th>\n",
       "      <th>reports</th>\n",
       "      <th>age</th>\n",
       "      <th>income</th>\n",
       "      <th>share</th>\n",
       "      <th>expenditure</th>\n",
       "      <th>owner</th>\n",
       "      <th>selfemp</th>\n",
       "      <th>dependents</th>\n",
       "      <th>months</th>\n",
       "      <th>majorcards</th>\n",
       "      <th>active</th>\n",
       "    </tr>\n",
       "  </thead>\n",
       "  <tbody>\n",
       "    <tr>\n",
       "      <th>0</th>\n",
       "      <td>yes</td>\n",
       "      <td>0</td>\n",
       "      <td>37.66667</td>\n",
       "      <td>4.5200</td>\n",
       "      <td>0.033270</td>\n",
       "      <td>124.983300</td>\n",
       "      <td>yes</td>\n",
       "      <td>no</td>\n",
       "      <td>3</td>\n",
       "      <td>54</td>\n",
       "      <td>1</td>\n",
       "      <td>12</td>\n",
       "    </tr>\n",
       "    <tr>\n",
       "      <th>1</th>\n",
       "      <td>yes</td>\n",
       "      <td>0</td>\n",
       "      <td>33.25000</td>\n",
       "      <td>2.4200</td>\n",
       "      <td>0.005217</td>\n",
       "      <td>9.854167</td>\n",
       "      <td>no</td>\n",
       "      <td>no</td>\n",
       "      <td>3</td>\n",
       "      <td>34</td>\n",
       "      <td>1</td>\n",
       "      <td>13</td>\n",
       "    </tr>\n",
       "    <tr>\n",
       "      <th>2</th>\n",
       "      <td>yes</td>\n",
       "      <td>0</td>\n",
       "      <td>33.66667</td>\n",
       "      <td>4.5000</td>\n",
       "      <td>0.004156</td>\n",
       "      <td>15.000000</td>\n",
       "      <td>yes</td>\n",
       "      <td>no</td>\n",
       "      <td>4</td>\n",
       "      <td>58</td>\n",
       "      <td>1</td>\n",
       "      <td>5</td>\n",
       "    </tr>\n",
       "    <tr>\n",
       "      <th>3</th>\n",
       "      <td>yes</td>\n",
       "      <td>0</td>\n",
       "      <td>30.50000</td>\n",
       "      <td>2.5400</td>\n",
       "      <td>0.065214</td>\n",
       "      <td>137.869200</td>\n",
       "      <td>no</td>\n",
       "      <td>no</td>\n",
       "      <td>0</td>\n",
       "      <td>25</td>\n",
       "      <td>1</td>\n",
       "      <td>7</td>\n",
       "    </tr>\n",
       "    <tr>\n",
       "      <th>4</th>\n",
       "      <td>yes</td>\n",
       "      <td>0</td>\n",
       "      <td>32.16667</td>\n",
       "      <td>9.7867</td>\n",
       "      <td>0.067051</td>\n",
       "      <td>546.503300</td>\n",
       "      <td>yes</td>\n",
       "      <td>no</td>\n",
       "      <td>2</td>\n",
       "      <td>64</td>\n",
       "      <td>1</td>\n",
       "      <td>5</td>\n",
       "    </tr>\n",
       "  </tbody>\n",
       "</table>\n",
       "</div>"
      ],
      "text/plain": [
       "  card  reports       age  income     share  expenditure owner selfemp  \\\n",
       "0  yes        0  37.66667  4.5200  0.033270   124.983300   yes      no   \n",
       "1  yes        0  33.25000  2.4200  0.005217     9.854167    no      no   \n",
       "2  yes        0  33.66667  4.5000  0.004156    15.000000   yes      no   \n",
       "3  yes        0  30.50000  2.5400  0.065214   137.869200    no      no   \n",
       "4  yes        0  32.16667  9.7867  0.067051   546.503300   yes      no   \n",
       "\n",
       "   dependents  months  majorcards  active  \n",
       "0           3      54           1      12  \n",
       "1           3      34           1      13  \n",
       "2           4      58           1       5  \n",
       "3           0      25           1       7  \n",
       "4           2      64           1       5  "
      ]
     },
     "execution_count": 3,
     "metadata": {},
     "output_type": "execute_result"
    }
   ],
   "source": [
    "print(data.shape)\n",
    "data.head()"
   ]
  },
  {
   "cell_type": "code",
   "execution_count": 4,
   "id": "e6c965a2",
   "metadata": {},
   "outputs": [],
   "source": [
    "data = data.replace(['yes','no'],[1,0])"
   ]
  },
  {
   "cell_type": "code",
   "execution_count": 5,
   "id": "9d0775ea",
   "metadata": {},
   "outputs": [
    {
     "name": "stdout",
     "output_type": "stream",
     "text": [
      "<class 'pandas.core.frame.DataFrame'>\n",
      "RangeIndex: 1319 entries, 0 to 1318\n",
      "Data columns (total 12 columns):\n",
      " #   Column       Non-Null Count  Dtype  \n",
      "---  ------       --------------  -----  \n",
      " 0   card         1319 non-null   int64  \n",
      " 1   reports      1319 non-null   int64  \n",
      " 2   age          1319 non-null   float64\n",
      " 3   income       1319 non-null   float64\n",
      " 4   share        1319 non-null   float64\n",
      " 5   expenditure  1319 non-null   float64\n",
      " 6   owner        1319 non-null   int64  \n",
      " 7   selfemp      1319 non-null   int64  \n",
      " 8   dependents   1319 non-null   int64  \n",
      " 9   months       1319 non-null   int64  \n",
      " 10  majorcards   1319 non-null   int64  \n",
      " 11  active       1319 non-null   int64  \n",
      "dtypes: float64(4), int64(8)\n",
      "memory usage: 123.8 KB\n"
     ]
    }
   ],
   "source": [
    "data.info()"
   ]
  },
  {
   "cell_type": "code",
   "execution_count": 6,
   "id": "aaa9c581",
   "metadata": {},
   "outputs": [
    {
     "data": {
      "text/html": [
       "<div>\n",
       "<style scoped>\n",
       "    .dataframe tbody tr th:only-of-type {\n",
       "        vertical-align: middle;\n",
       "    }\n",
       "\n",
       "    .dataframe tbody tr th {\n",
       "        vertical-align: top;\n",
       "    }\n",
       "\n",
       "    .dataframe thead th {\n",
       "        text-align: right;\n",
       "    }\n",
       "</style>\n",
       "<table border=\"1\" class=\"dataframe\">\n",
       "  <thead>\n",
       "    <tr style=\"text-align: right;\">\n",
       "      <th></th>\n",
       "      <th>card</th>\n",
       "      <th>reports</th>\n",
       "      <th>age</th>\n",
       "      <th>income</th>\n",
       "      <th>share</th>\n",
       "      <th>expenditure</th>\n",
       "      <th>owner</th>\n",
       "      <th>selfemp</th>\n",
       "      <th>dependents</th>\n",
       "      <th>months</th>\n",
       "      <th>majorcards</th>\n",
       "      <th>active</th>\n",
       "    </tr>\n",
       "  </thead>\n",
       "  <tbody>\n",
       "    <tr>\n",
       "      <th>count</th>\n",
       "      <td>1319.000000</td>\n",
       "      <td>1319.000000</td>\n",
       "      <td>1319.000000</td>\n",
       "      <td>1319.000000</td>\n",
       "      <td>1319.000000</td>\n",
       "      <td>1319.000000</td>\n",
       "      <td>1319.000000</td>\n",
       "      <td>1319.000000</td>\n",
       "      <td>1319.000000</td>\n",
       "      <td>1319.000000</td>\n",
       "      <td>1319.000000</td>\n",
       "      <td>1319.000000</td>\n",
       "    </tr>\n",
       "    <tr>\n",
       "      <th>mean</th>\n",
       "      <td>0.775588</td>\n",
       "      <td>0.456406</td>\n",
       "      <td>33.213103</td>\n",
       "      <td>3.365376</td>\n",
       "      <td>0.068732</td>\n",
       "      <td>185.057071</td>\n",
       "      <td>0.440485</td>\n",
       "      <td>0.068992</td>\n",
       "      <td>0.993935</td>\n",
       "      <td>55.267627</td>\n",
       "      <td>0.817286</td>\n",
       "      <td>6.996967</td>\n",
       "    </tr>\n",
       "    <tr>\n",
       "      <th>std</th>\n",
       "      <td>0.417353</td>\n",
       "      <td>1.345267</td>\n",
       "      <td>10.142783</td>\n",
       "      <td>1.693902</td>\n",
       "      <td>0.094656</td>\n",
       "      <td>272.218917</td>\n",
       "      <td>0.496634</td>\n",
       "      <td>0.253536</td>\n",
       "      <td>1.247745</td>\n",
       "      <td>66.271746</td>\n",
       "      <td>0.386579</td>\n",
       "      <td>6.305812</td>\n",
       "    </tr>\n",
       "    <tr>\n",
       "      <th>min</th>\n",
       "      <td>0.000000</td>\n",
       "      <td>0.000000</td>\n",
       "      <td>0.166667</td>\n",
       "      <td>0.210000</td>\n",
       "      <td>0.000109</td>\n",
       "      <td>0.000000</td>\n",
       "      <td>0.000000</td>\n",
       "      <td>0.000000</td>\n",
       "      <td>0.000000</td>\n",
       "      <td>0.000000</td>\n",
       "      <td>0.000000</td>\n",
       "      <td>0.000000</td>\n",
       "    </tr>\n",
       "    <tr>\n",
       "      <th>25%</th>\n",
       "      <td>1.000000</td>\n",
       "      <td>0.000000</td>\n",
       "      <td>25.416670</td>\n",
       "      <td>2.243750</td>\n",
       "      <td>0.002316</td>\n",
       "      <td>4.583333</td>\n",
       "      <td>0.000000</td>\n",
       "      <td>0.000000</td>\n",
       "      <td>0.000000</td>\n",
       "      <td>12.000000</td>\n",
       "      <td>1.000000</td>\n",
       "      <td>2.000000</td>\n",
       "    </tr>\n",
       "    <tr>\n",
       "      <th>50%</th>\n",
       "      <td>1.000000</td>\n",
       "      <td>0.000000</td>\n",
       "      <td>31.250000</td>\n",
       "      <td>2.900000</td>\n",
       "      <td>0.038827</td>\n",
       "      <td>101.298300</td>\n",
       "      <td>0.000000</td>\n",
       "      <td>0.000000</td>\n",
       "      <td>1.000000</td>\n",
       "      <td>30.000000</td>\n",
       "      <td>1.000000</td>\n",
       "      <td>6.000000</td>\n",
       "    </tr>\n",
       "    <tr>\n",
       "      <th>75%</th>\n",
       "      <td>1.000000</td>\n",
       "      <td>0.000000</td>\n",
       "      <td>39.416670</td>\n",
       "      <td>4.000000</td>\n",
       "      <td>0.093617</td>\n",
       "      <td>249.035800</td>\n",
       "      <td>1.000000</td>\n",
       "      <td>0.000000</td>\n",
       "      <td>2.000000</td>\n",
       "      <td>72.000000</td>\n",
       "      <td>1.000000</td>\n",
       "      <td>11.000000</td>\n",
       "    </tr>\n",
       "    <tr>\n",
       "      <th>max</th>\n",
       "      <td>1.000000</td>\n",
       "      <td>14.000000</td>\n",
       "      <td>83.500000</td>\n",
       "      <td>13.500000</td>\n",
       "      <td>0.906320</td>\n",
       "      <td>3099.505000</td>\n",
       "      <td>1.000000</td>\n",
       "      <td>1.000000</td>\n",
       "      <td>6.000000</td>\n",
       "      <td>540.000000</td>\n",
       "      <td>1.000000</td>\n",
       "      <td>46.000000</td>\n",
       "    </tr>\n",
       "  </tbody>\n",
       "</table>\n",
       "</div>"
      ],
      "text/plain": [
       "              card      reports          age       income        share  \\\n",
       "count  1319.000000  1319.000000  1319.000000  1319.000000  1319.000000   \n",
       "mean      0.775588     0.456406    33.213103     3.365376     0.068732   \n",
       "std       0.417353     1.345267    10.142783     1.693902     0.094656   \n",
       "min       0.000000     0.000000     0.166667     0.210000     0.000109   \n",
       "25%       1.000000     0.000000    25.416670     2.243750     0.002316   \n",
       "50%       1.000000     0.000000    31.250000     2.900000     0.038827   \n",
       "75%       1.000000     0.000000    39.416670     4.000000     0.093617   \n",
       "max       1.000000    14.000000    83.500000    13.500000     0.906320   \n",
       "\n",
       "       expenditure        owner      selfemp   dependents       months  \\\n",
       "count  1319.000000  1319.000000  1319.000000  1319.000000  1319.000000   \n",
       "mean    185.057071     0.440485     0.068992     0.993935    55.267627   \n",
       "std     272.218917     0.496634     0.253536     1.247745    66.271746   \n",
       "min       0.000000     0.000000     0.000000     0.000000     0.000000   \n",
       "25%       4.583333     0.000000     0.000000     0.000000    12.000000   \n",
       "50%     101.298300     0.000000     0.000000     1.000000    30.000000   \n",
       "75%     249.035800     1.000000     0.000000     2.000000    72.000000   \n",
       "max    3099.505000     1.000000     1.000000     6.000000   540.000000   \n",
       "\n",
       "        majorcards       active  \n",
       "count  1319.000000  1319.000000  \n",
       "mean      0.817286     6.996967  \n",
       "std       0.386579     6.305812  \n",
       "min       0.000000     0.000000  \n",
       "25%       1.000000     2.000000  \n",
       "50%       1.000000     6.000000  \n",
       "75%       1.000000    11.000000  \n",
       "max       1.000000    46.000000  "
      ]
     },
     "execution_count": 6,
     "metadata": {},
     "output_type": "execute_result"
    }
   ],
   "source": [
    "data.describe()"
   ]
  },
  {
   "cell_type": "code",
   "execution_count": 7,
   "id": "c1d95fa1",
   "metadata": {},
   "outputs": [],
   "source": [
    "y = data['card']\n",
    "X = data.drop(['card'], axis=1)"
   ]
  },
  {
   "cell_type": "code",
   "execution_count": 8,
   "id": "95c3d3fc",
   "metadata": {},
   "outputs": [],
   "source": [
    "from sklearn.model_selection import train_test_split"
   ]
  },
  {
   "cell_type": "code",
   "execution_count": 9,
   "id": "b8491232",
   "metadata": {},
   "outputs": [],
   "source": [
    "X_temp, X_test, y_temp, y_test = train_test_split(X, y, test_size=0.2, random_state=1)\n",
    "X_train, X_val, y_train, y_val = train_test_split(X_temp, y_temp, test_size=0.25 , random_state=1)"
   ]
  },
  {
   "cell_type": "code",
   "execution_count": 10,
   "id": "f1e6cacf",
   "metadata": {},
   "outputs": [
    {
     "name": "stdout",
     "output_type": "stream",
     "text": [
      "(791, 11) (791,)\n",
      "(264, 11) (264,)\n",
      "(264, 11) (264,)\n"
     ]
    }
   ],
   "source": [
    "print(X_train.shape, y_train.shape)\n",
    "print(X_val.shape, y_val.shape)\n",
    "print(X_test.shape, y_test.shape)"
   ]
  },
  {
   "cell_type": "code",
   "execution_count": null,
   "id": "9ec37bdb",
   "metadata": {},
   "outputs": [],
   "source": []
  },
  {
   "cell_type": "code",
   "execution_count": 11,
   "id": "717818bb",
   "metadata": {},
   "outputs": [],
   "source": [
    "from sklearn.metrics import roc_auc_score"
   ]
  },
  {
   "cell_type": "code",
   "execution_count": 12,
   "id": "d9f639d2",
   "metadata": {},
   "outputs": [
    {
     "name": "stdout",
     "output_type": "stream",
     "text": [
      "reports : has an AUC score: 0.283\n",
      "dependents : has an AUC score: 0.467\n",
      "active : has an AUC score: 0.604\n",
      "share : has an AUC score: 0.989\n",
      "age : has an AUC score: 0.476\n",
      "income : has an AUC score: 0.591\n",
      "expenditure : has an AUC score: 0.991\n",
      "months : has an AUC score: 0.471\n",
      "majorcards : has an AUC score: 0.534\n"
     ]
    }
   ],
   "source": [
    "cols = ['reports','dependents','active','share','age','income','expenditure','months','majorcards']\n",
    "\n",
    "for col in cols:\n",
    "    score = roc_auc_score(y_train, X_train[col])\n",
    "    print(f\"{col} : has an AUC score: {round(score,3)}\")"
   ]
  },
  {
   "cell_type": "code",
   "execution_count": 13,
   "id": "c8cfe06e",
   "metadata": {},
   "outputs": [],
   "source": [
    "cols = [\"reports\", \"age\", \"income\", \"share\", \"expenditure\", \"dependents\", \"months\", \"majorcards\", \"active\", \"owner\", \"selfemp\"]"
   ]
  },
  {
   "cell_type": "code",
   "execution_count": 14,
   "id": "12532a48",
   "metadata": {},
   "outputs": [],
   "source": [
    "X_train = X_train[cols]\n",
    "X_test = X_test[cols]\n",
    "X_val = X_val[cols]"
   ]
  },
  {
   "cell_type": "code",
   "execution_count": 15,
   "id": "0242e149",
   "metadata": {},
   "outputs": [],
   "source": [
    "from sklearn.feature_extraction import DictVectorizer"
   ]
  },
  {
   "cell_type": "code",
   "execution_count": 16,
   "id": "74ccabc1",
   "metadata": {},
   "outputs": [],
   "source": [
    "dv = DictVectorizer(sparse=False)\n",
    "X_train_dic = X_train.to_dict(orient='records')\n",
    "X_train_ohe = dv.fit_transform(X_train_dic)"
   ]
  },
  {
   "cell_type": "code",
   "execution_count": 17,
   "id": "dbf0e648",
   "metadata": {},
   "outputs": [],
   "source": [
    "X_val_dic = X_val.to_dict(orient='records')\n",
    "X_val_ohe = dv.transform(X_val_dic)"
   ]
  },
  {
   "cell_type": "code",
   "execution_count": 18,
   "id": "8eb4cfdf",
   "metadata": {},
   "outputs": [],
   "source": [
    "from sklearn.linear_model import LogisticRegression\n",
    "\n",
    "logreg = LogisticRegression(solver='liblinear', C=1.0, max_iter=1000)"
   ]
  },
  {
   "cell_type": "code",
   "execution_count": 19,
   "id": "e756079d",
   "metadata": {},
   "outputs": [
    {
     "data": {
      "text/plain": [
       "LogisticRegression(max_iter=1000, solver='liblinear')"
      ]
     },
     "execution_count": 19,
     "metadata": {},
     "output_type": "execute_result"
    }
   ],
   "source": [
    "logreg.fit(X_train_ohe, y_train)"
   ]
  },
  {
   "cell_type": "code",
   "execution_count": 20,
   "id": "a9df5649",
   "metadata": {},
   "outputs": [],
   "source": [
    "y_val_pred = logreg.predict_proba(X_val_ohe)[:,1]"
   ]
  },
  {
   "cell_type": "code",
   "execution_count": 21,
   "id": "4219db1a",
   "metadata": {},
   "outputs": [
    {
     "name": "stdout",
     "output_type": "stream",
     "text": [
      "0.995\n"
     ]
    }
   ],
   "source": [
    "print(round(roc_auc_score(y_val, y_val_pred),3))"
   ]
  },
  {
   "cell_type": "code",
   "execution_count": 22,
   "id": "b2ff5db7",
   "metadata": {},
   "outputs": [],
   "source": [
    "thresholds = np.linspace(0,1,101)"
   ]
  },
  {
   "cell_type": "code",
   "execution_count": 23,
   "id": "87df07cb",
   "metadata": {},
   "outputs": [],
   "source": [
    "precision = []\n",
    "recall = []\n",
    "\n",
    "for thr in thresholds:\n",
    "    predict_positive = (y_val_pred >= thr)\n",
    "    predict_negative = (y_val_pred < thr)\n",
    "    \n",
    "    actual_positive = (y_val == 1)\n",
    "    actual_negative = (y_val == 0)\n",
    "    \n",
    "    tp = (predict_positive & actual_positive).sum()\n",
    "    tn = (predict_negative & actual_negative).sum()\n",
    "\n",
    "    fp = (predict_positive & actual_negative).sum()\n",
    "    fn = (predict_negative & actual_positive).sum()\n",
    "    \n",
    "    pr = tp / (tp + fp)\n",
    "    re = tp / (tp + fn)\n",
    "    \n",
    "    precision.append(pr)\n",
    "    recall.append(re)"
   ]
  },
  {
   "cell_type": "code",
   "execution_count": 24,
   "id": "6ca1d50e",
   "metadata": {},
   "outputs": [],
   "source": [
    "import matplotlib.pyplot as plt"
   ]
  },
  {
   "cell_type": "code",
   "execution_count": 25,
   "id": "af7f8e50",
   "metadata": {},
   "outputs": [
    {
     "data": {
      "image/png": "[encoded data removed]",
      "text/plain": [
       "<Figure size 432x288 with 1 Axes>"
      ]
     },
     "metadata": {
      "needs_background": "light"
     },
     "output_type": "display_data"
    }
   ],
   "source": [
    "plt.plot(thresholds, precision, label=\"precision\")\n",
    "plt.plot(thresholds, recall, label=\"recall\")\n",
    "plt.legend();"
   ]
  },
  {
   "cell_type": "code",
   "execution_count": 26,
   "id": "5f16128c",
   "metadata": {},
   "outputs": [],
   "source": [
    "p = np.array(precision)\n",
    "r = np.array(recall)\n",
    "f1 =  (2*p*r)/(p + r)"
   ]
  },
  {
   "cell_type": "code",
   "execution_count": 30,
   "id": "069380f8",
   "metadata": {},
   "outputs": [
    {
     "data": {
      "image/png": "[encoded data removed]",
      "text/plain": [
       "<Figure size 432x288 with 1 Axes>"
      ]
     },
     "metadata": {
      "needs_background": "light"
     },
     "output_type": "display_data"
    }
   ],
   "source": [
    "plt.plot(thresholds, f1, label='f1 score')\n",
    "plt.xlabel('threshold')\n",
    "plt.scatter([0.1, 0.4, 0.6, 0.7], [f1[10], f1[40], f1[60], f1[70]], color='k', marker='*');"
   ]
  },
  {
   "cell_type": "code",
   "execution_count": 31,
   "id": "bde383ec",
   "metadata": {},
   "outputs": [],
   "source": [
    "from sklearn.model_selection import KFold\n",
    "\n",
    "kf = KFold(n_splits=5, shuffle=True, random_state=1)"
   ]
  },
  {
   "cell_type": "code",
   "execution_count": 32,
   "id": "ee3d58d4",
   "metadata": {},
   "outputs": [],
   "source": [
    "X_temp, X_test, y_temp, y_test = train_test_split(X, y, test_size=0.2, random_state=1)\n",
    "X_train, X_val, y_train, y_val = train_test_split(X_temp, y_temp, test_size=0.25 , random_state=1)"
   ]
  },
  {
   "cell_type": "code",
   "execution_count": 33,
   "id": "c820f6f8",
   "metadata": {},
   "outputs": [],
   "source": [
    "folds = kf.split(X_temp, y_temp)"
   ]
  },
  {
   "cell_type": "code",
   "execution_count": 34,
   "id": "e7a558b1",
   "metadata": {},
   "outputs": [],
   "source": [
    "logreg_fold = LogisticRegression(solver='liblinear', C=1.0, max_iter=1000)"
   ]
  },
  {
   "cell_type": "code",
   "execution_count": 35,
   "id": "075aec57",
   "metadata": {},
   "outputs": [],
   "source": [
    "auc_scores = []\n",
    "\n",
    "for train_index, val_index in folds:\n",
    "    X_train_fold = X_temp.iloc[train_index]\n",
    "    X_val_fold = X_temp.iloc[val_index]\n",
    "    \n",
    "    dv = DictVectorizer(sparse=False)\n",
    "    X_train_fold = X_train_fold.to_dict(orient='records')\n",
    "    X_train_fold = dv.fit_transform(X_train_fold)\n",
    "    \n",
    "    X_val_fold = X_val_fold.to_dict(orient='records')\n",
    "    X_val_fold = dv.transform(X_val_fold)\n",
    "    \n",
    "    \n",
    "    y_train_fold = y_temp.iloc[train_index]\n",
    "    y_val_fold = y_temp.iloc[val_index]\n",
    "    \n",
    "    logreg_fold.fit(X_train_fold, y_train_fold)\n",
    "    \n",
    "    y_val_fold_pred = logreg_fold.predict_proba(X_val_fold)[:,1]\n",
    "    \n",
    "    score = round(roc_auc_score(y_val_fold, y_val_fold_pred),3)\n",
    "    auc_scores.append(score)"
   ]
  },
  {
   "cell_type": "code",
   "execution_count": 36,
   "id": "a870d867",
   "metadata": {},
   "outputs": [
    {
     "data": {
      "text/plain": [
       "[0.994, 0.993, 0.995, 1.0, 1.0]"
      ]
     },
     "execution_count": 36,
     "metadata": {},
     "output_type": "execute_result"
    }
   ],
   "source": [
    "auc_scores"
   ]
  },
  {
   "cell_type": "code",
   "execution_count": 37,
   "id": "64b4c70e",
   "metadata": {},
   "outputs": [
    {
     "data": {
      "text/plain": [
       "0.003"
      ]
     },
     "execution_count": 37,
     "metadata": {},
     "output_type": "execute_result"
    }
   ],
   "source": [
    "auc_scores = np.array(auc_scores)\n",
    "round(auc_scores.std(),3)"
   ]
  },
  {
   "cell_type": "code",
   "execution_count": 39,
   "id": "433dd3fe",
   "metadata": {},
   "outputs": [],
   "source": [
    "from sklearn.model_selection import KFold\n",
    "\n",
    "kf = KFold(n_splits=5, shuffle=True, random_state=1)\n",
    "\n",
    "folds = kf.split(X_temp, y_temp)"
   ]
  },
  {
   "cell_type": "code",
   "execution_count": 40,
   "id": "8cd772e7",
   "metadata": {},
   "outputs": [],
   "source": [
    "C = [0.01, 0.1, 1, 10]"
   ]
  },
  {
   "cell_type": "code",
   "execution_count": 41,
   "id": "399c281c",
   "metadata": {},
   "outputs": [
    {
     "name": "stdout",
     "output_type": "stream",
     "text": [
      "For C: 0.01, the AUC score is 0.991 +/- 0.011 \n",
      "For C: 0.1, the AUC score is 0.993 +/- 0.007 \n",
      "For C: 1, the AUC score is 0.997 +/- 0.004 \n",
      "For C: 10, the AUC score is 0.997 +/- 0.004 \n"
     ]
    }
   ],
   "source": [
    "for c in C:\n",
    "    logreg_fold = LogisticRegression(solver='liblinear', C=c, max_iter=1000)\n",
    "    \n",
    "    kf = KFold(n_splits=5, shuffle=True, random_state=1)\n",
    "\n",
    "    folds = kf.split(X_train, y_train)\n",
    "    \n",
    "    auc_scores = []\n",
    "    \n",
    "    for train_index, val_index in folds:\n",
    "        X_train_fold = X_temp.iloc[train_index]\n",
    "        X_val_fold = X_temp.iloc[val_index]\n",
    "    \n",
    "        dv = DictVectorizer(sparse=False)\n",
    "        X_train_fold = X_train_fold.to_dict(orient='records')\n",
    "        X_train_fold = dv.fit_transform(X_train_fold)\n",
    "    \n",
    "        X_val_fold = X_val_fold.to_dict(orient='records')\n",
    "        X_val_fold = dv.transform(X_val_fold)\n",
    "    \n",
    "    \n",
    "        y_train_fold = y_temp.iloc[train_index]\n",
    "        y_val_fold = y_temp.iloc[val_index]\n",
    "    \n",
    "        logreg_fold.fit(X_train_fold, y_train_fold)\n",
    "    \n",
    "        y_val_fold_pred = logreg_fold.predict_proba(X_val_fold)[:,1]\n",
    "    \n",
    "        score = round(roc_auc_score(y_val_fold, y_val_fold_pred),3)\n",
    "        auc_scores.append(score)\n",
    "    \n",
    "    auc_scores = np.array(auc_scores)\n",
    "    std = round(auc_scores.std(),3)\n",
    "    mean = round(auc_scores.mean(),3)\n",
    "    \n",
    "    print(f\"For C: {c}, the AUC score is {mean} +/- {std} \")"
   ]
  },
  {
   "cell_type": "code",
   "execution_count": null,
   "id": "1c5b8a75",
   "metadata": {},
   "outputs": [],
   "source": []
  }
 ],
 "metadata": {
  "kernelspec": {
   "display_name": "Python 3 (ipykernel)",
   "language": "python",
   "name": "python3"
  },
  "language_info": {
   "codemirror_mode": {
    "name": "ipython",
    "version": 3
   },
   "file_extension": ".py",
   "mimetype": "text/x-python",
   "name": "python",
   "nbconvert_exporter": "python",
   "pygments_lexer": "ipython3",
   "version": "3.9.12"
  }
 },
 "nbformat": 4,
 "nbformat_minor": 5
}
